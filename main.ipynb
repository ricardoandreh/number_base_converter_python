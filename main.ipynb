{
  "nbformat": 4,
  "nbformat_minor": 0,
  "metadata": {
    "colab": {
      "provenance": [],
      "authorship_tag": "ABX9TyPWdoJrjXhCPOMIiAN1gWuJ",
      "include_colab_link": true
    },
    "kernelspec": {
      "name": "python3",
      "display_name": "Python 3"
    },
    "language_info": {
      "name": "python"
    }
  },
  "cells": [
    {
      "cell_type": "markdown",
      "metadata": {
        "id": "view-in-github",
        "colab_type": "text"
      },
      "source": [
        "<a href=\"https://colab.research.google.com/github/ricardoandreh/number_base_converter_python/blob/main/main.ipynb\" target=\"_parent\"><img src=\"https://colab.research.google.com/assets/colab-badge.svg\" alt=\"Open In Colab\"/></a>"
      ]
    },
    {
      "cell_type": "markdown",
      "source": [
        "# Conversor de Base Numérica"
      ],
      "metadata": {
        "id": "H3XDgecb_2lO"
      }
    },
    {
      "cell_type": "markdown",
      "source": [
        "### Dica: No Google Colab, **Ctrl + F9** para executar tudo!"
      ],
      "metadata": {
        "id": "-vHmEQDu31Wp"
      }
    },
    {
      "cell_type": "markdown",
      "source": [
        "## Variavéis iniciais (mais para consulta)"
      ],
      "metadata": {
        "id": "IwYeN6F-2jUm"
      }
    },
    {
      "cell_type": "code",
      "source": [
        "bases_name = {10: \"decimal\", 2: \"binário\", 8: \"octal\", 16: \"hexadecimal\"}\n",
        "valid_bases = [\"2\", \"8\", \"10\", \"16\"]\n",
        "numbers = [\n",
        "  \"0\", \"1\", \"2\", \"3\",\n",
        "  \"4\", \"5\", \"6\", \"7\",\n",
        "  \"8\", \"9\", \"A\", \"B\",\n",
        "  \"C\", \"D\", \"E\", \"F\"\n",
        "]\n",
        "\n",
        "get_decimal_part = lambda value: float(\"0.\" + str(value).split(\".\")[1])"
      ],
      "metadata": {
        "id": "KnYyV4Ct2nHF"
      },
      "execution_count": null,
      "outputs": []
    },
    {
      "cell_type": "markdown",
      "source": [
        "## Função que calcula as casas decimais"
      ],
      "metadata": {
        "id": "9mdu5vlT24kP"
      }
    },
    {
      "cell_type": "code",
      "source": [
        "def calc_decimal_part(decimal_number, output_base, dec_result = \"\"):\n",
        "  decimals_occurred = {decimal_number}\n",
        "  maximum_digits = 30\n",
        "\n",
        "  while decimal_number != 0.0:\n",
        "    decimal_number *= output_base\n",
        "    dec_result += numbers[int(decimal_number)]\n",
        "    decimal_number = get_decimal_part(decimal_number)\n",
        "\n",
        "    if decimal_number in decimals_occurred or len(dec_result) >= maximum_digits:\n",
        "      dec_result += \"...\"\n",
        "      break\n",
        "\n",
        "    decimals_occurred.add(decimal_number)\n",
        "\n",
        "  return f\".{dec_result}\""
      ],
      "metadata": {
        "id": "Wt4sF4Ro24-O"
      },
      "execution_count": null,
      "outputs": []
    },
    {
      "cell_type": "markdown",
      "source": [
        "## Função que converte de uma base para decimal"
      ],
      "metadata": {
        "id": "226E60oa2o_M"
      }
    },
    {
      "cell_type": "code",
      "source": [
        "def convert_to_dec(input_value, input_base, output_number = 0):\n",
        "  get_integer_part = input_value.split(\".\")[0]\n",
        "\n",
        "  index, comma = len(get_integer_part) - 1, False\n",
        "\n",
        "  for n in input_value:\n",
        "    if n != \".\":\n",
        "      output_number += numbers.index(n) * input_base ** index\n",
        "      index -= 1\n",
        "    else:\n",
        "      comma = True\n",
        "      index = -1\n",
        "\n",
        "  return str(output_number)"
      ],
      "metadata": {
        "id": "YfiLrgQu2pSu"
      },
      "execution_count": null,
      "outputs": []
    },
    {
      "cell_type": "markdown",
      "source": [
        "## Função que converte de decimal para uma outra base"
      ],
      "metadata": {
        "id": "uEcS9tQg26Yw"
      }
    },
    {
      "cell_type": "code",
      "source": [
        "def convert_from_dec(input_value, output_base, output_number = \"\"):\n",
        "  is_float = \".\" in input_value\n",
        "\n",
        "  chave = int(float(input_value))\n",
        "\n",
        "  while chave >= output_base:\n",
        "    output_number += numbers[chave % output_base]\n",
        "    chave //= output_base\n",
        "\n",
        "  output_number += numbers[chave]\n",
        "\n",
        "  if is_float:\n",
        "    return output_number[::-1] + calc_decimal_part(\n",
        "      get_decimal_part(input_value), output_base\n",
        "    )\n",
        "\n",
        "  return output_number[::-1]"
      ],
      "metadata": {
        "id": "b2Qf2ue526ub"
      },
      "execution_count": null,
      "outputs": []
    },
    {
      "cell_type": "markdown",
      "source": [
        "## Função que verifica a entrada dos dados"
      ],
      "metadata": {
        "id": "wakg_rCq5Wv1"
      }
    },
    {
      "cell_type": "code",
      "source": [
        "def check_inputs(input_base, output_base, input_value):\n",
        "  if input_base not in valid_bases or output_base not in valid_bases:\n",
        "    raise ValueError(\"Não é possível converter nessa base 😓\")\n",
        "\n",
        "  if not input_value:\n",
        "    raise ValueError(\"\\033[31mDigite um número para ser convertido!\")\n",
        "\n",
        "  if \",\" in input_value:\n",
        "    input_value = input_value.replace(\",\", \".\")\n",
        "\n",
        "  if input_value.count(\".\") > 1:\n",
        "    raise ValueError(\"\\033[31m❌ O número NÃO está fracionado de forma correta!\")\n",
        "\n",
        "  input_base, output_base = int(input_base), int(output_base)\n",
        "\n",
        "  for c in input_value:\n",
        "    if c not in numbers[:input_base] and c != \".\":\n",
        "      raise ValueError(\"\\033[31m❌ O número NÃO está em conformidade com a base escolhida!\")\n",
        "\n",
        "  return input_base, output_base, input_value"
      ],
      "metadata": {
        "id": "63-bMK9y5XDg"
      },
      "execution_count": null,
      "outputs": []
    },
    {
      "cell_type": "markdown",
      "source": [
        "## Função principal"
      ],
      "metadata": {
        "id": "pPm65Dat27RW"
      }
    },
    {
      "cell_type": "code",
      "execution_count": null,
      "metadata": {
        "colab": {
          "base_uri": "https://localhost:8080/"
        },
        "id": "6BBsPtNc-yKL",
        "outputId": "52b85f94-4be3-4777-8c4e-c730ebd591eb"
      },
      "outputs": [
        {
          "output_type": "stream",
          "name": "stdout",
          "text": [
            "Informe a base de entrada desejada: 16\n",
            "Informe a base de saída desejada: 10\n",
            "Digite o número a ser convertido: DCA.4F39\n",
            "\n",
            "DCA.4F39 da base 16 para decimal é 3530.3094635009766\n"
          ]
        }
      ],
      "source": [
        "def base_converter(\n",
        "  input_base = input(\"Informe a base de entrada desejada: \"),\n",
        "  output_base = input(\"Informe a base de saída desejada: \"),\n",
        "  input_value = input(\"Digite o número a ser convertido: \").upper()\n",
        "):\n",
        "\n",
        "  input_base, output_base, input_value = check_inputs(input_base, output_base, input_value)\n",
        "\n",
        "  if input_base == 10:\n",
        "    output = convert_from_dec(input_value, output_base)\n",
        "  elif output_base == 10:\n",
        "    output = convert_to_dec(input_value, input_base)\n",
        "  else:\n",
        "    new_input_value = convert_to_dec(input_value, input_base)\n",
        "    output = convert_from_dec(new_input_value, output_base)\n",
        "\n",
        "  return input_value, input_base, output_base, output\n",
        "\n",
        "if __name__ == \"__main__\":\n",
        "  response = base_converter()\n",
        "\n",
        "  if response != None:\n",
        "    input_value, input_base, output_base, output = response\n",
        "    output_base_name = bases_name[output_base]\n",
        "\n",
        "    print(f\"\\n{input_value} da base {input_base} para {output_base_name} é {output}\")"
      ]
    },
    {
      "cell_type": "markdown",
      "source": [
        "## Testes"
      ],
      "metadata": {
        "id": "klRW0WFWBkgl"
      }
    },
    {
      "cell_type": "code",
      "source": [
        "def test():\n",
        "\n",
        "  \"\"\"\n",
        "  Base 2 para 8\n",
        "  \"\"\"\n",
        "  assert base_converter(\"2\", \"8\", \"01010111\")[-1] == \"127\"\n",
        "  assert base_converter(\"2\", \"8\", \"110010\")[-1] == \"62\"\n",
        "  assert base_converter(\"2\", \"8\", \"111010011\")[-1] == \"723\"\n",
        "  assert base_converter(\"2\", \"8\", \"010011010\")[-1] == \"232\"\n",
        "  assert base_converter(\"2\", \"8\", \"0111101\")[-1] == \"75\"\n",
        "  assert base_converter(\"2\", \"8\", \"100.0011\")[-1] == \"4.14\"\n",
        "  assert base_converter(\"2\", \"8\", \"10101.1\")[-1] == \"25.4\"\n",
        "  assert base_converter(\"2\", \"8\", \"1101.110\")[-1] == \"15.6\"\n",
        "  assert base_converter(\"2\", \"8\", \"0111101.1101\")[-1] == \"75.64\"\n",
        "  assert base_converter(\"2\", \"8\", \"11011.11011\")[-1] == \"33.66\"\n",
        "\n",
        "  \"\"\"\n",
        "  Base 2 para 10\n",
        "  \"\"\"\n",
        "  assert base_converter(\"2\", \"10\", \"1111110100\")[-1] == \"1012\"\n",
        "  assert base_converter(\"2\", \"10\", \"101101\")[-1] == \"45\"\n",
        "  assert base_converter(\"2\", \"10\", \"0011111011110101\")[-1] == \"16117\"\n",
        "  assert base_converter(\"2\", \"10\", \"11100111\")[-1] == \"231\"\n",
        "  assert base_converter(\"2\", \"10\", \"001101\")[-1] == \"13\"\n",
        "  assert base_converter(\"2\", \"10\", \"101.110\")[-1] == \"5.75\"\n",
        "  assert base_converter(\"2\", \"10\", \"1.11011\")[-1] == \"1.84375\"\n",
        "  assert base_converter(\"2\", \"10\", \"0.1010\")[-1] == \"0.625\"\n",
        "  assert base_converter(\"2\", \"10\", \"011.110\")[-1] == \"3.75\"\n",
        "  assert base_converter(\"2\", \"10\", \"011.111011\")[-1] == \"3.921875\"\n",
        "\n",
        "  \"\"\"\n",
        "  Base 2 para 16\n",
        "  \"\"\"\n",
        "  assert base_converter(\"2\", \"16\", \"01101\")[-1] == \"D\"\n",
        "  assert base_converter(\"2\", \"16\", \"1011101\")[-1] == \"5D\"\n",
        "  assert base_converter(\"2\", \"16\", \"110110101101\")[-1] == \"DAD\"\n",
        "  assert base_converter(\"2\", \"16\", \"110110111\")[-1] == \"1B7\"\n",
        "  assert base_converter(\"2\", \"16\", \"101100001\")[-1] == \"161\"\n",
        "  assert base_converter(\"2\", \"16\", \"0.11\")[-1] == \"0.C\"\n",
        "  assert base_converter(\"2\", \"16\", \"11.00101\")[-1] == \"3.28\"\n",
        "  assert base_converter(\"2\", \"16\", \"001.1101\")[-1] == \"1.D\"\n",
        "  assert base_converter(\"2\", \"16\", \"10011.1001\")[-1] == \"13.9\"\n",
        "  assert base_converter(\"2\", \"16\", \"101111.11110100011\")[-1] == \"2F.F46\"\n",
        "\n",
        "  \"\"\"\n",
        "  Base 8 para 2\n",
        "  \"\"\"\n",
        "  assert base_converter(\"8\", \"2\", \"1026\")[-1] == \"1000010110\"\n",
        "  assert base_converter(\"8\", \"2\", \"1321\")[-1] == \"1011010001\"\n",
        "  assert base_converter(\"8\", \"2\", \"115\")[-1] == \"1001101\"\n",
        "  assert base_converter(\"8\", \"2\", \"676\")[-1] == \"110111110\"\n",
        "  assert base_converter(\"8\", \"2\", \"71\")[-1] == \"111001\"\n",
        "  assert base_converter(\"8\", \"2\", \"15.7\")[-1] == \"1101.111\"\n",
        "  assert base_converter(\"8\", \"2\", \"47.4461\")[-1] == \"100111.100100110001\"\n",
        "  assert base_converter(\"8\", \"2\", \"77.76\")[-1] == \"111111.11111\"\n",
        "  assert base_converter(\"8\", \"2\", \"2.67176\")[-1] == \"10.11011100111111\"\n",
        "  assert base_converter(\"8\", \"2\", \"154.701\")[-1] == \"1101100.111000001\"\n",
        "\n",
        "  \"\"\"\n",
        "  Base 8 para 10\n",
        "  \"\"\"\n",
        "  assert base_converter(\"8\", \"10\", \"62\")[-1] == \"50\"\n",
        "  assert base_converter(\"8\", \"10\", \"77\")[-1] == \"63\"\n",
        "  assert base_converter(\"8\", \"10\", \"324\")[-1] == \"212\"\n",
        "  assert base_converter(\"8\", \"10\", \"1011\")[-1] == \"521\"\n",
        "  assert base_converter(\"8\", \"10\", \"675\")[-1] == \"445\"\n",
        "  assert base_converter(\"8\", \"10\", \"4.1775\")[-1] == \"4.249267578125\"\n",
        "  assert base_converter(\"8\", \"10\", \"1.6751\")[-1] == \"1.869384765625\"\n",
        "  assert base_converter(\"8\", \"10\", \"64.17\")[-1] == \"52.234375\"\n",
        "  assert base_converter(\"8\", \"10\", \"35.7771\")[-1] == \"29.998291015625\"\n",
        "  assert base_converter(\"8\", \"10\", \"16.26\")[-1] == \"14.34375\"\n",
        "\n",
        "  \"\"\"\n",
        "  Base 8 para 16\n",
        "  \"\"\"\n",
        "  assert base_converter(\"8\", \"16\", \"712\")[-1] == \"1CA\"\n",
        "  assert base_converter(\"8\", \"16\", \"1234\")[-1] == \"29C\"\n",
        "  assert base_converter(\"8\", \"16\", \"217\")[-1] == \"8F\"\n",
        "  assert base_converter(\"8\", \"16\", \"6737734\")[-1] == \"1BBFDC\"\n",
        "  assert base_converter(\"8\", \"16\", \"174746\")[-1] == \"F9E6\"\n",
        "  assert base_converter(\"8\", \"16\", \"1267.77\")[-1] == \"2B7.FC\"\n",
        "  assert base_converter(\"8\", \"16\", \"752.76\")[-1] == \"1EA.F8\"\n",
        "  assert base_converter(\"8\", \"16\", \"1517.7156\")[-1] == \"34F.E6E\"\n",
        "  assert base_converter(\"8\", \"16\", \"7.1612\")[-1] == \"7.38A\"\n",
        "  assert base_converter(\"8\", \"16\", \"16.72142\")[-1] == \"E.E8C4\"\n",
        "\n",
        "  \"\"\"\n",
        "  Base 10 para 2\n",
        "  \"\"\"\n",
        "  assert base_converter(\"10\", \"2\", \"472\")[-1] == \"111011000\"\n",
        "  assert base_converter(\"10\", \"2\", \"743587\")[-1] == \"10110101100010100011\"\n",
        "  assert base_converter(\"10\", \"2\", \"2353\")[-1] == \"100100110001\"\n",
        "  assert base_converter(\"10\", \"2\", \"3495\")[-1] == \"110110100111\"\n",
        "  assert base_converter(\"10\", \"2\", \"0103\")[-1] == \"1100111\"\n",
        "  assert base_converter(\"10\", \"2\", \"84.5\")[-1] == \"1010100.1\"\n",
        "  assert base_converter(\"10\", \"2\", \"45.9\")[-1] == \"101101.11100...\"\n",
        "  assert base_converter(\"10\", \"2\", \"87.12\")[-1] == \"1010111.00011110101110000101...\"\n",
        "  assert base_converter(\"10\", \"2\", \"62.4\")[-1] == \"111110.0110...\"\n",
        "  assert base_converter(\"10\", \"2\", \"344.1\")[-1] == \"101011000.00011...\"\n",
        "\n",
        "  \"\"\"\n",
        "  Base 10 para 8\n",
        "  \"\"\"\n",
        "  assert base_converter(\"10\", \"8\", \"728\")[-1] == \"1330\"\n",
        "  assert base_converter(\"10\", \"8\", \"982\")[-1] == \"1726\"\n",
        "  assert base_converter(\"10\", \"8\", \"129\")[-1] == \"201\"\n",
        "  assert base_converter(\"10\", \"8\", \"4698\")[-1] == \"11132\"\n",
        "  assert base_converter(\"10\", \"8\", \"5948\")[-1] == \"13474\"\n",
        "  assert base_converter(\"10\", \"8\", \"91.78\")[-1] == \"133.617270243656050753412...\"\n",
        "  assert base_converter(\"10\", \"8\", \"64.1\")[-1] == \"100.06314...\"\n",
        "  assert base_converter(\"10\", \"8\", \"86.24\")[-1] == \"126.17270243656050753412...\"\n",
        "  assert base_converter(\"10\", \"8\", \"972.7\")[-1] == \"1714.54631...\"\n",
        "  assert base_converter(\"10\", \"8\", \"10.12\")[-1] == \"12.07534121727024365605...\"\n",
        "\n",
        "  \"\"\"\n",
        "  Base 10 para 16\n",
        "  \"\"\"\n",
        "  assert base_converter(\"10\", \"16\", \"265\")[-1] == \"109\"\n",
        "  assert base_converter(\"10\", \"16\", \"467\")[-1] == \"1D3\"\n",
        "  assert base_converter(\"10\", \"16\", \"27\")[-1] == \"1B\"\n",
        "  assert base_converter(\"10\", \"16\", \"76\")[-1] == \"4C\"\n",
        "  assert base_converter(\"10\", \"16\", \"58381\")[-1] == \"E40D\"\n",
        "  assert base_converter(\"10\", \"16\", \"62.72\")[-1] == \"3E.B851E...\"\n",
        "  assert base_converter(\"10\", \"16\", \"5.724\")[-1] == \"5.B95810624DD2F1A9FBE76C8B43...\"\n",
        "  assert base_converter(\"10\", \"16\", \"28.2\")[-1] == \"1C.3...\"\n",
        "  assert base_converter(\"10\", \"16\", \"8.1\")[-1] == \"8.19...\"\n",
        "  assert base_converter(\"10\", \"16\", \"48.276\")[-1] == \"30.46A7EF9DB22D0E5604189374BC...\"\n",
        "\n",
        "  \"\"\"\n",
        "  Base 16 para 2\n",
        "  \"\"\"\n",
        "  assert base_converter(\"16\", \"2\", \"1F25A\")[-1] == \"11111001001011010\"\n",
        "  assert base_converter(\"16\", \"2\", \"A45FC\")[-1] == \"10100100010111111100\"\n",
        "  assert base_converter(\"16\", \"2\", \"1DC5\")[-1] == \"1110111000101\"\n",
        "  assert base_converter(\"16\", \"2\", \"5E7\")[-1] == \"10111100111\"\n",
        "  assert base_converter(\"16\", \"2\", \"A0D9F\")[-1] == \"10100000110110011111\"\n",
        "  assert base_converter(\"16\", \"2\", \"1.0F\")[-1] == \"1.00001111\"\n",
        "  assert base_converter(\"16\", \"2\", \"44.712\")[-1] == \"1000100.01110001001\"\n",
        "  assert base_converter(\"16\", \"2\", \"30.513\")[-1] == \"110000.010100010011\"\n",
        "  assert base_converter(\"16\", \"2\", \"8.537\")[-1] == \"1000.010100110111\"\n",
        "  assert base_converter(\"16\", \"2\", \"97.254\")[-1] == \"10010111.0010010101\"\n",
        "\n",
        "  \"\"\"\n",
        "  Base 16 para 8\n",
        "  \"\"\"\n",
        "  assert base_converter(\"16\", \"8\", \"F6D\")[-1] == \"7555\"\n",
        "  assert base_converter(\"16\", \"8\", \"8B2\")[-1] == \"4262\"\n",
        "  assert base_converter(\"16\", \"8\", \"68ADE9\")[-1] == \"32126751\"\n",
        "  assert base_converter(\"16\", \"8\", \"52A4F\")[-1] == \"1225117\"\n",
        "  assert base_converter(\"16\", \"8\", \"A1E8C\")[-1] == \"2417214\"\n",
        "  assert base_converter(\"16\", \"8\", \"D.A03\")[-1] == \"15.5003\"\n",
        "  assert base_converter(\"16\", \"8\", \"8.BDC9\")[-1] == \"10.573443777777777766774240604305...\"\n",
        "  assert base_converter(\"16\", \"8\", \"7F2.D7BA\")[-1] == \"3762.657347777777777075507545733211...\"\n",
        "  assert base_converter(\"16\", \"8\", \"2F.AE31\")[-1] == \"57.534303777777777722755443625732...\"\n",
        "  assert base_converter(\"16\", \"8\", \"6B.CAD8\")[-1] == \"153.62554\"\n",
        "\n",
        "  \"\"\"\n",
        "  Base 16 para 10\n",
        "  \"\"\"\n",
        "  assert base_converter(\"16\", \"10\", \"83F5D\")[-1] == \"540509\"\n",
        "  assert base_converter(\"16\", \"10\", \"A51B8\")[-1] == \"676280\"\n",
        "  assert base_converter(\"16\", \"10\", \"46FBA1\")[-1] == \"4651937\"\n",
        "  assert base_converter(\"16\", \"10\", \"1ED5A6\")[-1] == \"2020774\"\n",
        "  assert base_converter(\"16\", \"10\", \"F5DDE23\")[-1] == \"257809955\"\n",
        "  assert base_converter(\"16\", \"10\", \"D27B.F\")[-1] == \"53883.9375\"\n",
        "  assert base_converter(\"16\", \"10\", \"F1.652AB\")[-1] == \"241.3951826095581\"\n",
        "  assert base_converter(\"16\", \"10\", \"C1B5A.5F0A1\")[-1] == \"793434.3712472916\"\n",
        "  assert base_converter(\"16\", \"10\", \"37.A1BD\")[-1] == \"55.63179016113281\"\n",
        "  assert base_converter(\"16\", \"10\", \"DCA.4F39\")[-1] == \"3530.3094635009766\"\n",
        "\n",
        "if __name__ == \"__main__\":\n",
        "    test()\n",
        "    print(\"\\033[32mParabéns, o programa rodou sem falhas! 😄\")"
      ],
      "metadata": {
        "id": "5VPgHpHXBmS5",
        "colab": {
          "base_uri": "https://localhost:8080/"
        },
        "outputId": "d2573319-068c-44ed-93f7-812f1ddc3a2d"
      },
      "execution_count": null,
      "outputs": [
        {
          "output_type": "stream",
          "name": "stdout",
          "text": [
            "\u001b[32mParabéns, o programa rodou sem falhas! 😄\n"
          ]
        }
      ]
    },
    {
      "cell_type": "markdown",
      "source": [
        "> *Feito por Ricardo André da Silva, BSI 1*"
      ],
      "metadata": {
        "id": "xNSME6a6ApiT"
      }
    }
  ]
}